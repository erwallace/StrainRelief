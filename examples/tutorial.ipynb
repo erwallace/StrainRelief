{
 "cells": [
  {
   "cell_type": "code",
   "execution_count": 1,
   "metadata": {},
   "outputs": [
    {
     "name": "stderr",
     "output_type": "stream",
     "text": [
      "/opt/homebrew/Caskroom/miniforge/base/envs/strain/lib/python3.11/site-packages/e3nn/o3/_wigner.py:10: FutureWarning: You are using `torch.load` with `weights_only=False` (the current default value), which uses the default pickle module implicitly. It is possible to construct malicious pickle data which will execute arbitrary code during unpickling (See https://github.com/pytorch/pytorch/blob/main/SECURITY.md#untrusted-models for more details). In a future release, the default value for `weights_only` will be flipped to `True`. This limits the functions that could be executed during unpickling. Arbitrary objects will no longer be allowed to be loaded via this mode unless they are explicitly allowlisted by the user via `torch.serialization.add_safe_globals`. We recommend you start setting `weights_only=True` for any use case where you don't have full control of the loaded file. Please open an issue on GitHub for any issues related to this experimental feature.\n",
      "  _Jd, _W3j_flat, _W3j_indices = torch.load(os.path.join(os.path.dirname(__file__), 'constants.pt'))\n"
     ]
    }
   ],
   "source": [
    "from hydra import compose, initialize\n",
    "from omegaconf import OmegaConf\n",
    "from rdkit import Chem\n",
    "from rdkit.Chem import rdDetermineBonds\n",
    "from rdkit.Chem.Draw import IPythonConsole\n",
    "IPythonConsole.ipython_3d = True\n",
    "import pandas as pd\n",
    "\n",
    "from strain_relief.cmdline import strain_relief as sr"
   ]
  },
  {
   "cell_type": "code",
   "execution_count": 2,
   "metadata": {},
   "outputs": [
    {
     "name": "stdout",
     "output_type": "stream",
     "text": [
      "Requirement already satisfied: py3Dmol in /opt/homebrew/Caskroom/miniforge/base/envs/strain/lib/python3.11/site-packages (2.4.2)\n"
     ]
    }
   ],
   "source": [
    "! pip install py3Dmol\n",
    "import py3Dmol"
   ]
  },
  {
   "cell_type": "markdown",
   "metadata": {},
   "source": [
    "To run the StrainReleif tool you will need your docked poses in a parquet file. The parquet must contain two columns: your molecule's poses as RDKit.Mol binary strings and a unique ID for each pose.\n",
    "\n",
    "You likely don't have your poses in this format to begin with so below is a handy function that converts sdfs to this format."
   ]
  },
  {
   "cell_type": "code",
   "execution_count": 3,
   "metadata": {},
   "outputs": [],
   "source": [
    "def sdf_to_parquet(sdf_file, parquet_file):\n",
    "    suppl = Chem.SDMolSupplier(sdf_file, sanitize=False, removeHs=False)\n",
    "    mols = [mol for mol in suppl if mol is not None]\n",
    "    \n",
    "    df = pd.DataFrame([{\"mol_bytes\": mol.ToBinary(), **mol.GetPropsAsDict()} for mol in mols])\n",
    "    df = df.reset_index(drop=False, names='id')\n",
    "    df.to_parquet(parquet_file)\n",
    "\n",
    "sdf_path = '../data/example_ligboundconf.sdf'\n",
    "parquet_path = '../data/example_ligboundconf_input.parquet'\n",
    "\n",
    "sdf_to_parquet(sdf_path, parquet_path)"
   ]
  },
  {
   "cell_type": "markdown",
   "metadata": {},
   "source": [
    "Now that we have our poses in the correct format, lets create a hydra config for StrainRelief."
   ]
  },
  {
   "cell_type": "code",
   "execution_count": 4,
   "metadata": {},
   "outputs": [
    {
     "name": "stdout",
     "output_type": "stream",
     "text": [
      "seed: -1\n",
      "threshold: 16.1\n",
      "numThreads: 0\n",
      "io:\n",
      "  input:\n",
      "    parquet_path: ../data/example_ligboundconf_input.parquet\n",
      "    mol_col_name: null\n",
      "    id_col_name: null\n",
      "  output:\n",
      "    output_file: null\n",
      "    id_col_name: ${..input.id_col_name}\n",
      "    mol_col_name: ${..input.mol_col_name}\n",
      "conformers:\n",
      "  randomSeed: ${..seed}\n",
      "  numConfs: 20\n",
      "  maxAttempts: 10\n",
      "  pruneRmsThresh: 0.1\n",
      "  clearConfs: false\n",
      "  numThreads: ${..numThreads}\n",
      "local_min:\n",
      "  method: MMFF94s\n",
      "  maxIters: 1000\n",
      "  MMFFGetMoleculeProperties:\n",
      "    mmffVariant: ${..method}\n",
      "  MMFFGetMoleculeForceField: {}\n",
      "  fmax: 0.5\n",
      "  fexit: 250\n",
      "global_min:\n",
      "  method: MMFF94s\n",
      "  maxIters: 1000\n",
      "  MMFFGetMoleculeProperties:\n",
      "    mmffVariant: ${..method}\n",
      "  MMFFGetMoleculeForceField: {}\n",
      "  fmax: 0.05\n",
      "  fexit: 250\n",
      "energy_eval:\n",
      "  method: ${..global_min.method}\n",
      "\n"
     ]
    }
   ],
   "source": [
    "with initialize(version_base=\"1.1\", config_path=\"../src/strain_relief/hydra_config\"):\n",
    "    cfg = compose(\n",
    "        config_name=\"default\", \n",
    "        overrides=[\n",
    "            \"experiment=mmff94s\",\n",
    "            f\"io.input.parquet_path={parquet_path}\"\n",
    "            ]\n",
    "        )\n",
    "\n",
    "print(OmegaConf.to_yaml(cfg))"
   ]
  },
  {
   "cell_type": "markdown",
   "metadata": {},
   "source": [
    "Now we can run the tool! (This should take less than a minute)\n",
    "\n",
    "(There are more example scripts in `StrainRelief/examples/`. These can be executed from the command line using the `strain-relief` command or replicate them in the cell above with hydra.)"
   ]
  },
  {
   "cell_type": "code",
   "execution_count": 5,
   "metadata": {},
   "outputs": [
    {
     "data": {
      "text/html": [
       "<div>\n",
       "<style scoped>\n",
       "    .dataframe tbody tr th:only-of-type {\n",
       "        vertical-align: middle;\n",
       "    }\n",
       "\n",
       "    .dataframe tbody tr th {\n",
       "        vertical-align: top;\n",
       "    }\n",
       "\n",
       "    .dataframe thead th {\n",
       "        text-align: right;\n",
       "    }\n",
       "</style>\n",
       "<table border=\"1\" class=\"dataframe\">\n",
       "  <thead>\n",
       "    <tr style=\"text-align: right;\">\n",
       "      <th></th>\n",
       "      <th>id</th>\n",
       "      <th>mol_bytes</th>\n",
       "      <th>ligand_id</th>\n",
       "      <th>some_property</th>\n",
       "      <th>charge</th>\n",
       "      <th>local_min_mol</th>\n",
       "      <th>local_min_e</th>\n",
       "      <th>global_min_mol</th>\n",
       "      <th>global_min_e</th>\n",
       "      <th>ligand_strain</th>\n",
       "      <th>passes_strain_filter</th>\n",
       "      <th>nconfs_converged</th>\n",
       "    </tr>\n",
       "  </thead>\n",
       "  <tbody>\n",
       "    <tr>\n",
       "      <th>0</th>\n",
       "      <td>0</td>\n",
       "      <td>b'\\xef\\xbe\\xad\\xde\\x00\\x00\\x00\\x00\\x10\\x00\\x00...</td>\n",
       "      <td>3Q4_3QD0_A_370</td>\n",
       "      <td>A</td>\n",
       "      <td>0</td>\n",
       "      <td>b'\\xef\\xbe\\xad\\xde\\x00\\x00\\x00\\x00\\x10\\x00\\x00...</td>\n",
       "      <td>-122.361323</td>\n",
       "      <td>b'\\xef\\xbe\\xad\\xde\\x00\\x00\\x00\\x00\\x10\\x00\\x00...</td>\n",
       "      <td>-132.501279</td>\n",
       "      <td>10.139956</td>\n",
       "      <td>True</td>\n",
       "      <td>20</td>\n",
       "    </tr>\n",
       "    <tr>\n",
       "      <th>1</th>\n",
       "      <td>1</td>\n",
       "      <td>b'\\xef\\xbe\\xad\\xde\\x00\\x00\\x00\\x00\\x10\\x00\\x00...</td>\n",
       "      <td>YTW_6IBK_A_525</td>\n",
       "      <td>B</td>\n",
       "      <td>0</td>\n",
       "      <td>b\"\\xef\\xbe\\xad\\xde\\x00\\x00\\x00\\x00\\x10\\x00\\x00...</td>\n",
       "      <td>-14.682596</td>\n",
       "      <td>b'\\xef\\xbe\\xad\\xde\\x00\\x00\\x00\\x00\\x10\\x00\\x00...</td>\n",
       "      <td>-45.220088</td>\n",
       "      <td>30.537492</td>\n",
       "      <td>False</td>\n",
       "      <td>21</td>\n",
       "    </tr>\n",
       "  </tbody>\n",
       "</table>\n",
       "</div>"
      ],
      "text/plain": [
       "   id                                          mol_bytes       ligand_id  \\\n",
       "0   0  b'\\xef\\xbe\\xad\\xde\\x00\\x00\\x00\\x00\\x10\\x00\\x00...  3Q4_3QD0_A_370   \n",
       "1   1  b'\\xef\\xbe\\xad\\xde\\x00\\x00\\x00\\x00\\x10\\x00\\x00...  YTW_6IBK_A_525   \n",
       "\n",
       "  some_property  charge                                      local_min_mol  \\\n",
       "0             A       0  b'\\xef\\xbe\\xad\\xde\\x00\\x00\\x00\\x00\\x10\\x00\\x00...   \n",
       "1             B       0  b\"\\xef\\xbe\\xad\\xde\\x00\\x00\\x00\\x00\\x10\\x00\\x00...   \n",
       "\n",
       "   local_min_e                                     global_min_mol  \\\n",
       "0  -122.361323  b'\\xef\\xbe\\xad\\xde\\x00\\x00\\x00\\x00\\x10\\x00\\x00...   \n",
       "1   -14.682596  b'\\xef\\xbe\\xad\\xde\\x00\\x00\\x00\\x00\\x10\\x00\\x00...   \n",
       "\n",
       "   global_min_e  ligand_strain  passes_strain_filter  nconfs_converged  \n",
       "0   -132.501279      10.139956                  True                20  \n",
       "1    -45.220088      30.537492                 False                21  "
      ]
     },
     "execution_count": 5,
     "metadata": {},
     "output_type": "execute_result"
    }
   ],
   "source": [
    "results = sr(cfg)\n",
    "results.head()"
   ]
  },
  {
   "cell_type": "markdown",
   "metadata": {},
   "source": [
    "The `results` dataframe contains all input columns (in this case `id`, `ligand_id`, `some_property` and `mol_bytes`) and all calculated columns:\n",
    "- `charge`: RDKit's formal charge. StrainRelief only calculates strains of neutral molecules\n",
    "- `local_min_mol`: the coordinates of the local minimum\n",
    "- `local_min_e`: the energy of the local minimum (in kcal/mol)\n",
    "- `global_min_mol`: the coordinates of the global minimum\n",
    "- `global_min_e`: the energy of the global minimum (in kcal/mol)\n",
    "- `ligand_strain`: difference between local and global minima\n",
    "- `passes_strain_filter`: whether `ligand_strain` is lower than the config threshold\n",
    "- `nconfs_converged`: the number of conformers that convereged when searching for the global minimum "
   ]
  },
  {
   "cell_type": "markdown",
   "metadata": {},
   "source": [
    "Lets have a look at the three poses from ligand 3Q4_3QD0_A_370. "
   ]
  },
  {
   "cell_type": "code",
   "execution_count": 6,
   "metadata": {},
   "outputs": [],
   "source": [
    "docked = Chem.Mol(results.mol_bytes[0])\n",
    "local_min = Chem.Mol(results.local_min_mol[0])\n",
    "global_min = Chem.Mol(results.global_min_mol[0])"
   ]
  },
  {
   "cell_type": "code",
   "execution_count": 7,
   "metadata": {},
   "outputs": [],
   "source": [
    "rdDetermineBonds.DetermineBonds(docked)\n",
    "rdDetermineBonds.DetermineBonds(local_min)\n",
    "rdDetermineBonds.DetermineBonds(global_min)"
   ]
  },
  {
   "cell_type": "code",
   "execution_count": 8,
   "metadata": {},
   "outputs": [
    {
     "data": {
      "application/3dmoljs_load.v0": "<div id=\"3dmolviewer_1740946739136466\"  style=\"position: relative; width: 400px; height: 400px;\">\n        <p id=\"3dmolwarning_1740946739136466\" style=\"background-color:#ffcccc;color:black\">3Dmol.js failed to load for some reason.  Please check your browser console for error messages.<br></p>\n        </div>\n<script>\n\nvar loadScriptAsync = function(uri){\n  return new Promise((resolve, reject) => {\n    //this is to ignore the existence of requirejs amd\n    var savedexports, savedmodule;\n    if (typeof exports !== 'undefined') savedexports = exports;\n    else exports = {}\n    if (typeof module !== 'undefined') savedmodule = module;\n    else module = {}\n\n    var tag = document.createElement('script');\n    tag.src = uri;\n    tag.async = true;\n    tag.onload = () => {\n        exports = savedexports;\n        module = savedmodule;\n        resolve();\n    };\n  var firstScriptTag = document.getElementsByTagName('script')[0];\n  firstScriptTag.parentNode.insertBefore(tag, firstScriptTag);\n});\n};\n\nif(typeof $3Dmolpromise === 'undefined') {\n$3Dmolpromise = null;\n  $3Dmolpromise = loadScriptAsync('https://cdnjs.cloudflare.com/ajax/libs/3Dmol/2.4.2/3Dmol-min.js');\n}\n\nvar viewer_1740946739136466 = null;\nvar warn = document.getElementById(\"3dmolwarning_1740946739136466\");\nif(warn) {\n    warn.parentNode.removeChild(warn);\n}\n$3Dmolpromise.then(function() {\nviewer_1740946739136466 = $3Dmol.createViewer(document.getElementById(\"3dmolviewer_1740946739136466\"),{backgroundColor:\"white\"});\nviewer_1740946739136466.zoomTo();\n\tviewer_1740946739136466.removeAllModels();\n\tviewer_1740946739136466.addModel(\"\\n     RDKit          3D\\n\\n 59 63  0  0  0  0  0  0  0  0999 V2000\\n  -52.8550   24.7130    9.1690 C   0  0  0  0  0  0  0  0  0  0  0  0\\n  -52.2490   23.8000    8.3290 C   0  0  0  0  0  0  0  0  0  0  0  0\\n  -52.1820   25.1640   10.2880 C   0  0  0  0  0  0  0  0  0  0  0  0\\n  -40.8020   16.4820   13.0440 C   0  0  0  0  0  0  0  0  0  0  0  0\\n  -42.0000   17.0910   12.7040 C   0  0  0  0  0  0  0  0  0  0  0  0\\n  -50.9790   23.3360    8.6110 C   0  0  0  0  0  0  0  0  0  0  0  0\\n  -50.9130   24.7030   10.5740 C   0  0  0  0  0  0  0  0  0  0  0  0\\n  -43.0190   15.0870   11.9110 C   0  0  0  0  0  0  0  0  0  0  0  0\\n  -44.5490   18.5190   12.0560 C   0  0  0  0  0  0  0  0  0  0  0  0\\n  -40.7190   15.1080   12.7980 C   0  0  0  0  0  0  0  0  0  0  0  0\\n  -43.1010   16.4520   12.1410 C   0  0  0  0  0  0  0  0  0  0  0  0\\n  -41.8260   14.4760   12.2570 C   0  0  0  0  0  0  0  0  0  0  0  0\\n  -50.3160   23.7840    9.7340 C   0  0  0  0  0  0  0  0  0  0  0  0\\n  -44.3320   17.1860   11.7520 C   0  0  0  0  0  0  0  0  0  0  0  0\\n  -45.7500   19.1170   11.6860 C   0  0  0  0  0  0  0  0  0  0  0  0\\n  -39.7370   14.0810   12.9550 C   0  0  0  0  0  0  0  0  0  0  0  0\\n  -46.4210   17.1120   10.7650 C   0  0  0  0  0  0  0  0  0  0  0  0\\n  -48.5250   23.1180   11.2570 C   0  0  0  0  0  0  0  0  0  0  0  0\\n  -46.3510   23.2490   12.3950 C   0  0  0  0  0  0  0  0  0  0  0  0\\n  -44.9820   22.6120   12.6350 C   0  0  0  0  0  0  0  0  0  0  0  0\\n  -47.3210   21.0520   11.8320 C   0  0  0  0  0  0  0  0  0  0  0  0\\n  -47.1510   22.4810   11.3360 C   0  0  1  0  0  0  0  0  0  0  0  0\\n  -45.0930   21.1290   12.9980 C   0  0  1  0  0  0  0  0  0  0  0  0\\n  -45.5760   20.9800   14.4180 C   0  0  0  0  0  0  0  0  0  0  0  0\\n  -45.2770   16.4850   11.1050 N   0  0  0  0  0  0  0  0  0  0  0  0\\n  -46.6810   18.4020   11.0390 N   0  0  0  0  0  0  0  0  0  0  0  0\\n  -40.2110   12.8990   12.5270 N   0  0  0  0  0  0  0  0  0  0  0  0\\n  -41.4590   13.1680   12.1200 N   0  0  0  0  0  0  0  0  0  0  0  0\\n  -45.9620   20.5170   11.9760 N   0  0  0  0  0  0  0  0  0  0  0  0\\n  -38.4790   14.2720   13.4660 N   0  0  0  0  0  0  0  0  0  0  0  0\\n  -47.4170   16.3900   10.0880 N   0  0  0  0  0  0  0  0  0  0  0  0\\n  -49.0260   23.2960    9.9890 N   0  0  0  0  0  0  0  0  0  0  0  0\\n  -49.1330   23.4090   12.2650 O   0  0  0  0  0  0  0  0  0  0  0  0\\n  -53.8500   25.0710    8.9500 H   0  0  0  0  0  0  0  0  0  0  0  0\\n  -52.7680   23.4480    7.4500 H   0  0  0  0  0  0  0  0  0  0  0  0\\n  -52.6490   25.8820   10.9460 H   0  0  0  0  0  0  0  0  0  0  0  0\\n  -40.0010   17.0670   13.4720 H   0  0  0  0  0  0  0  0  0  0  0  0\\n  -42.1350   18.1490   12.8730 H   0  0  0  0  0  0  0  0  0  0  0  0\\n  -50.5060   22.6230    7.9520 H   0  0  0  0  0  0  0  0  0  0  0  0\\n  -50.3930   25.0610   11.4500 H   0  0  0  0  0  0  0  0  0  0  0  0\\n  -43.8590   14.5600   11.4840 H   0  0  0  0  0  0  0  0  0  0  0  0\\n  -43.7900   19.0850   12.5760 H   0  0  0  0  0  0  0  0  0  0  0  0\\n  -46.2190   24.2820   12.0720 H   0  0  0  0  0  0  0  0  0  0  0  0\\n  -46.9110   23.2680   13.3300 H   0  0  0  0  0  0  0  0  0  0  0  0\\n  -44.4700   23.1440   13.4370 H   0  0  0  0  0  0  0  0  0  0  0  0\\n  -44.3690   22.7210   11.7400 H   0  0  0  0  0  0  0  0  0  0  0  0\\n  -47.8610   20.4710   11.0840 H   0  0  0  0  0  0  0  0  0  0  0  0\\n  -47.8110   21.0630   12.8060 H   0  0  0  0  0  0  0  0  0  0  0  0\\n  -46.6490   22.5050   10.3690 H   0  0  0  0  0  0  0  0  0  0  0  0\\n  -44.1030   20.6800   12.9220 H   0  0  0  0  0  0  0  0  0  0  0  0\\n  -45.6520   19.9220   14.6670 H   0  0  0  0  0  0  0  0  0  0  0  0\\n  -44.8710   21.4630   15.0950 H   0  0  0  0  0  0  0  0  0  0  0  0\\n  -46.5550   21.4480   14.5200 H   0  0  0  0  0  0  0  0  0  0  0  0\\n  -42.1110   12.4980   11.7380 H   0  0  0  0  0  0  0  0  0  0  0  0\\n  -37.8420   13.4920   13.5440 H   0  0  0  0  0  0  0  0  0  0  0  0\\n  -38.1890   15.1930   13.7640 H   0  0  0  0  0  0  0  0  0  0  0  0\\n  -48.2800   16.8440    9.8260 H   0  0  0  0  0  0  0  0  0  0  0  0\\n  -47.2700   15.4160    9.8630 H   0  0  0  0  0  0  0  0  0  0  0  0\\n  -48.4160   23.0560    9.2210 H   0  0  0  0  0  0  0  0  0  0  0  0\\n  2  1  2  0\\n  3  1  1  0\\n  5  4  2  0\\n  6  2  1  0\\n  7  3  2  0\\n 10  4  1  0\\n 11  8  2  0\\n 11  5  1  0\\n 12 10  2  0\\n 12  8  1  0\\n 13  7  1  0\\n 13  6  2  0\\n 14  9  2  0\\n 14 11  1  0\\n 15  9  1  0\\n 16 10  1  0\\n 20 19  1  0\\n 22 21  1  0\\n 22 19  1  0\\n 22 18  1  0\\n 23 20  1  0\\n 24 23  1  0\\n 25 17  2  0\\n 25 14  1  0\\n 26 17  1  0\\n 26 15  2  0\\n 27 16  2  0\\n 28 27  1  0\\n 28 12  1  0\\n 29 23  1  0\\n 29 21  1  0\\n 29 15  1  0\\n 30 16  1  0\\n 31 17  1  0\\n 32 13  1  0\\n 32 18  1  0\\n 33 18  2  0\\n 34  1  1  0\\n 35  2  1  0\\n 36  3  1  0\\n 37  4  1  0\\n 38  5  1  0\\n 39  6  1  0\\n 40  7  1  0\\n 41  8  1  0\\n 42  9  1  0\\n 43 19  1  0\\n 44 19  1  0\\n 45 20  1  0\\n 46 20  1  0\\n 47 21  1  0\\n 48 21  1  0\\n 22 49  1  6\\n 23 50  1  1\\n 51 24  1  0\\n 52 24  1  0\\n 53 24  1  0\\n 54 28  1  0\\n 55 30  1  0\\n 56 30  1  0\\n 57 31  1  0\\n 58 31  1  0\\n 59 32  1  0\\nM  END\\n\",\"sdf\");\n\tviewer_1740946739136466.setStyle({\"stick\": {}});\n\tviewer_1740946739136466.setBackgroundColor(\"0xeeeeee\");\n\tviewer_1740946739136466.zoomTo();\nviewer_1740946739136466.render();\n});\n</script>",
      "text/html": [
       "<div id=\"3dmolviewer_1740946739136466\"  style=\"position: relative; width: 400px; height: 400px;\">\n",
       "        <p id=\"3dmolwarning_1740946739136466\" style=\"background-color:#ffcccc;color:black\">3Dmol.js failed to load for some reason.  Please check your browser console for error messages.<br></p>\n",
       "        </div>\n",
       "<script>\n",
       "\n",
       "var loadScriptAsync = function(uri){\n",
       "  return new Promise((resolve, reject) => {\n",
       "    //this is to ignore the existence of requirejs amd\n",
       "    var savedexports, savedmodule;\n",
       "    if (typeof exports !== 'undefined') savedexports = exports;\n",
       "    else exports = {}\n",
       "    if (typeof module !== 'undefined') savedmodule = module;\n",
       "    else module = {}\n",
       "\n",
       "    var tag = document.createElement('script');\n",
       "    tag.src = uri;\n",
       "    tag.async = true;\n",
       "    tag.onload = () => {\n",
       "        exports = savedexports;\n",
       "        module = savedmodule;\n",
       "        resolve();\n",
       "    };\n",
       "  var firstScriptTag = document.getElementsByTagName('script')[0];\n",
       "  firstScriptTag.parentNode.insertBefore(tag, firstScriptTag);\n",
       "});\n",
       "};\n",
       "\n",
       "if(typeof $3Dmolpromise === 'undefined') {\n",
       "$3Dmolpromise = null;\n",
       "  $3Dmolpromise = loadScriptAsync('https://cdnjs.cloudflare.com/ajax/libs/3Dmol/2.4.2/3Dmol-min.js');\n",
       "}\n",
       "\n",
       "var viewer_1740946739136466 = null;\n",
       "var warn = document.getElementById(\"3dmolwarning_1740946739136466\");\n",
       "if(warn) {\n",
       "    warn.parentNode.removeChild(warn);\n",
       "}\n",
       "$3Dmolpromise.then(function() {\n",
       "viewer_1740946739136466 = $3Dmol.createViewer(document.getElementById(\"3dmolviewer_1740946739136466\"),{backgroundColor:\"white\"});\n",
       "viewer_1740946739136466.zoomTo();\n",
       "\tviewer_1740946739136466.removeAllModels();\n",
       "\tviewer_1740946739136466.addModel(\"\\n     RDKit          3D\\n\\n 59 63  0  0  0  0  0  0  0  0999 V2000\\n  -52.8550   24.7130    9.1690 C   0  0  0  0  0  0  0  0  0  0  0  0\\n  -52.2490   23.8000    8.3290 C   0  0  0  0  0  0  0  0  0  0  0  0\\n  -52.1820   25.1640   10.2880 C   0  0  0  0  0  0  0  0  0  0  0  0\\n  -40.8020   16.4820   13.0440 C   0  0  0  0  0  0  0  0  0  0  0  0\\n  -42.0000   17.0910   12.7040 C   0  0  0  0  0  0  0  0  0  0  0  0\\n  -50.9790   23.3360    8.6110 C   0  0  0  0  0  0  0  0  0  0  0  0\\n  -50.9130   24.7030   10.5740 C   0  0  0  0  0  0  0  0  0  0  0  0\\n  -43.0190   15.0870   11.9110 C   0  0  0  0  0  0  0  0  0  0  0  0\\n  -44.5490   18.5190   12.0560 C   0  0  0  0  0  0  0  0  0  0  0  0\\n  -40.7190   15.1080   12.7980 C   0  0  0  0  0  0  0  0  0  0  0  0\\n  -43.1010   16.4520   12.1410 C   0  0  0  0  0  0  0  0  0  0  0  0\\n  -41.8260   14.4760   12.2570 C   0  0  0  0  0  0  0  0  0  0  0  0\\n  -50.3160   23.7840    9.7340 C   0  0  0  0  0  0  0  0  0  0  0  0\\n  -44.3320   17.1860   11.7520 C   0  0  0  0  0  0  0  0  0  0  0  0\\n  -45.7500   19.1170   11.6860 C   0  0  0  0  0  0  0  0  0  0  0  0\\n  -39.7370   14.0810   12.9550 C   0  0  0  0  0  0  0  0  0  0  0  0\\n  -46.4210   17.1120   10.7650 C   0  0  0  0  0  0  0  0  0  0  0  0\\n  -48.5250   23.1180   11.2570 C   0  0  0  0  0  0  0  0  0  0  0  0\\n  -46.3510   23.2490   12.3950 C   0  0  0  0  0  0  0  0  0  0  0  0\\n  -44.9820   22.6120   12.6350 C   0  0  0  0  0  0  0  0  0  0  0  0\\n  -47.3210   21.0520   11.8320 C   0  0  0  0  0  0  0  0  0  0  0  0\\n  -47.1510   22.4810   11.3360 C   0  0  1  0  0  0  0  0  0  0  0  0\\n  -45.0930   21.1290   12.9980 C   0  0  1  0  0  0  0  0  0  0  0  0\\n  -45.5760   20.9800   14.4180 C   0  0  0  0  0  0  0  0  0  0  0  0\\n  -45.2770   16.4850   11.1050 N   0  0  0  0  0  0  0  0  0  0  0  0\\n  -46.6810   18.4020   11.0390 N   0  0  0  0  0  0  0  0  0  0  0  0\\n  -40.2110   12.8990   12.5270 N   0  0  0  0  0  0  0  0  0  0  0  0\\n  -41.4590   13.1680   12.1200 N   0  0  0  0  0  0  0  0  0  0  0  0\\n  -45.9620   20.5170   11.9760 N   0  0  0  0  0  0  0  0  0  0  0  0\\n  -38.4790   14.2720   13.4660 N   0  0  0  0  0  0  0  0  0  0  0  0\\n  -47.4170   16.3900   10.0880 N   0  0  0  0  0  0  0  0  0  0  0  0\\n  -49.0260   23.2960    9.9890 N   0  0  0  0  0  0  0  0  0  0  0  0\\n  -49.1330   23.4090   12.2650 O   0  0  0  0  0  0  0  0  0  0  0  0\\n  -53.8500   25.0710    8.9500 H   0  0  0  0  0  0  0  0  0  0  0  0\\n  -52.7680   23.4480    7.4500 H   0  0  0  0  0  0  0  0  0  0  0  0\\n  -52.6490   25.8820   10.9460 H   0  0  0  0  0  0  0  0  0  0  0  0\\n  -40.0010   17.0670   13.4720 H   0  0  0  0  0  0  0  0  0  0  0  0\\n  -42.1350   18.1490   12.8730 H   0  0  0  0  0  0  0  0  0  0  0  0\\n  -50.5060   22.6230    7.9520 H   0  0  0  0  0  0  0  0  0  0  0  0\\n  -50.3930   25.0610   11.4500 H   0  0  0  0  0  0  0  0  0  0  0  0\\n  -43.8590   14.5600   11.4840 H   0  0  0  0  0  0  0  0  0  0  0  0\\n  -43.7900   19.0850   12.5760 H   0  0  0  0  0  0  0  0  0  0  0  0\\n  -46.2190   24.2820   12.0720 H   0  0  0  0  0  0  0  0  0  0  0  0\\n  -46.9110   23.2680   13.3300 H   0  0  0  0  0  0  0  0  0  0  0  0\\n  -44.4700   23.1440   13.4370 H   0  0  0  0  0  0  0  0  0  0  0  0\\n  -44.3690   22.7210   11.7400 H   0  0  0  0  0  0  0  0  0  0  0  0\\n  -47.8610   20.4710   11.0840 H   0  0  0  0  0  0  0  0  0  0  0  0\\n  -47.8110   21.0630   12.8060 H   0  0  0  0  0  0  0  0  0  0  0  0\\n  -46.6490   22.5050   10.3690 H   0  0  0  0  0  0  0  0  0  0  0  0\\n  -44.1030   20.6800   12.9220 H   0  0  0  0  0  0  0  0  0  0  0  0\\n  -45.6520   19.9220   14.6670 H   0  0  0  0  0  0  0  0  0  0  0  0\\n  -44.8710   21.4630   15.0950 H   0  0  0  0  0  0  0  0  0  0  0  0\\n  -46.5550   21.4480   14.5200 H   0  0  0  0  0  0  0  0  0  0  0  0\\n  -42.1110   12.4980   11.7380 H   0  0  0  0  0  0  0  0  0  0  0  0\\n  -37.8420   13.4920   13.5440 H   0  0  0  0  0  0  0  0  0  0  0  0\\n  -38.1890   15.1930   13.7640 H   0  0  0  0  0  0  0  0  0  0  0  0\\n  -48.2800   16.8440    9.8260 H   0  0  0  0  0  0  0  0  0  0  0  0\\n  -47.2700   15.4160    9.8630 H   0  0  0  0  0  0  0  0  0  0  0  0\\n  -48.4160   23.0560    9.2210 H   0  0  0  0  0  0  0  0  0  0  0  0\\n  2  1  2  0\\n  3  1  1  0\\n  5  4  2  0\\n  6  2  1  0\\n  7  3  2  0\\n 10  4  1  0\\n 11  8  2  0\\n 11  5  1  0\\n 12 10  2  0\\n 12  8  1  0\\n 13  7  1  0\\n 13  6  2  0\\n 14  9  2  0\\n 14 11  1  0\\n 15  9  1  0\\n 16 10  1  0\\n 20 19  1  0\\n 22 21  1  0\\n 22 19  1  0\\n 22 18  1  0\\n 23 20  1  0\\n 24 23  1  0\\n 25 17  2  0\\n 25 14  1  0\\n 26 17  1  0\\n 26 15  2  0\\n 27 16  2  0\\n 28 27  1  0\\n 28 12  1  0\\n 29 23  1  0\\n 29 21  1  0\\n 29 15  1  0\\n 30 16  1  0\\n 31 17  1  0\\n 32 13  1  0\\n 32 18  1  0\\n 33 18  2  0\\n 34  1  1  0\\n 35  2  1  0\\n 36  3  1  0\\n 37  4  1  0\\n 38  5  1  0\\n 39  6  1  0\\n 40  7  1  0\\n 41  8  1  0\\n 42  9  1  0\\n 43 19  1  0\\n 44 19  1  0\\n 45 20  1  0\\n 46 20  1  0\\n 47 21  1  0\\n 48 21  1  0\\n 22 49  1  6\\n 23 50  1  1\\n 51 24  1  0\\n 52 24  1  0\\n 53 24  1  0\\n 54 28  1  0\\n 55 30  1  0\\n 56 30  1  0\\n 57 31  1  0\\n 58 31  1  0\\n 59 32  1  0\\nM  END\\n\",\"sdf\");\n",
       "\tviewer_1740946739136466.setStyle({\"stick\": {}});\n",
       "\tviewer_1740946739136466.setBackgroundColor(\"0xeeeeee\");\n",
       "\tviewer_1740946739136466.zoomTo();\n",
       "viewer_1740946739136466.render();\n",
       "});\n",
       "</script>"
      ]
     },
     "metadata": {},
     "output_type": "display_data"
    }
   ],
   "source": [
    "IPythonConsole.drawMol3D(docked)"
   ]
  },
  {
   "cell_type": "code",
   "execution_count": 9,
   "metadata": {},
   "outputs": [
    {
     "data": {
      "application/3dmoljs_load.v0": "<div id=\"3dmolviewer_1740946739141205\"  style=\"position: relative; width: 400px; height: 400px;\">\n        <p id=\"3dmolwarning_1740946739141205\" style=\"background-color:#ffcccc;color:black\">3Dmol.js failed to load for some reason.  Please check your browser console for error messages.<br></p>\n        </div>\n<script>\n\nvar loadScriptAsync = function(uri){\n  return new Promise((resolve, reject) => {\n    //this is to ignore the existence of requirejs amd\n    var savedexports, savedmodule;\n    if (typeof exports !== 'undefined') savedexports = exports;\n    else exports = {}\n    if (typeof module !== 'undefined') savedmodule = module;\n    else module = {}\n\n    var tag = document.createElement('script');\n    tag.src = uri;\n    tag.async = true;\n    tag.onload = () => {\n        exports = savedexports;\n        module = savedmodule;\n        resolve();\n    };\n  var firstScriptTag = document.getElementsByTagName('script')[0];\n  firstScriptTag.parentNode.insertBefore(tag, firstScriptTag);\n});\n};\n\nif(typeof $3Dmolpromise === 'undefined') {\n$3Dmolpromise = null;\n  $3Dmolpromise = loadScriptAsync('https://cdnjs.cloudflare.com/ajax/libs/3Dmol/2.4.2/3Dmol-min.js');\n}\n\nvar viewer_1740946739141205 = null;\nvar warn = document.getElementById(\"3dmolwarning_1740946739141205\");\nif(warn) {\n    warn.parentNode.removeChild(warn);\n}\n$3Dmolpromise.then(function() {\nviewer_1740946739141205 = $3Dmol.createViewer(document.getElementById(\"3dmolviewer_1740946739141205\"),{backgroundColor:\"white\"});\nviewer_1740946739141205.zoomTo();\n\tviewer_1740946739141205.removeAllModels();\n\tviewer_1740946739141205.addModel(\"\\n     RDKit          3D\\n\\n 59 63  0  0  0  0  0  0  0  0999 V2000\\n  -52.8698   24.7178    9.1627 C   0  0  0  0  0  0  0  0  0  0  0  0\\n  -52.2495   23.7994    8.3089 C   0  0  0  0  0  0  0  0  0  0  0  0\\n  -52.2008   25.1752   10.2965 C   0  0  0  0  0  0  0  0  0  0  0  0\\n  -40.8135   16.4812   13.0451 C   0  0  0  0  0  0  0  0  0  0  0  0\\n  -42.0196   17.1305   12.7027 C   0  0  0  0  0  0  0  0  0  0  0  0\\n  -50.9510   23.3489    8.5798 C   0  0  0  0  0  0  0  0  0  0  0  0\\n  -50.9215   24.6994   10.5832 C   0  0  0  0  0  0  0  0  0  0  0  0\\n  -43.0215   15.0989   11.9119 C   0  0  0  0  0  0  0  0  0  0  0  0\\n  -44.5686   18.4949   12.0339 C   0  0  0  0  0  0  0  0  0  0  0  0\\n  -40.7190   15.1059   12.7967 C   0  0  0  0  0  0  0  0  0  0  0  0\\n  -43.1387   16.4755   12.1201 C   0  0  0  0  0  0  0  0  0  0  0  0\\n  -41.8194   14.4669   12.2479 C   0  0  0  0  0  0  0  0  0  0  0  0\\n  -50.2908   23.7881    9.7299 C   0  0  0  0  0  0  0  0  0  0  0  0\\n  -44.3861   17.1718   11.7355 C   0  0  0  0  0  0  0  0  0  0  0  0\\n  -45.7504   19.1069   11.6948 C   0  0  0  0  0  0  0  0  0  0  0  0\\n  -39.7507   14.0727   12.9484 C   0  0  0  0  0  0  0  0  0  0  0  0\\n  -46.4387   17.1216   10.7593 C   0  0  0  0  0  0  0  0  0  0  0  0\\n  -48.5162   23.1228   11.2874 C   0  0  0  0  0  0  0  0  0  0  0  0\\n  -46.3351   23.2733   12.3863 C   0  0  0  0  0  0  0  0  0  0  0  0\\n  -44.9812   22.6369   12.6196 C   0  0  0  0  0  0  0  0  0  0  0  0\\n  -47.2936   21.0318   11.8107 C   0  0  0  0  0  0  0  0  0  0  0  0\\n  -47.1390   22.4879   11.3502 C   0  0  1  0  0  0  0  0  0  0  0  0\\n  -45.0959   21.1549   12.9822 C   0  0  1  0  0  0  0  0  0  0  0  0\\n  -45.5823   20.9713   14.4102 C   0  0  0  0  0  0  0  0  0  0  0  0\\n  -45.3291   16.4728   11.0827 N   0  0  0  0  0  0  0  0  0  0  0  0\\n  -46.6865   18.4067   11.0326 N   0  0  0  0  0  0  0  0  0  0  0  0\\n  -40.2038   12.8913   12.5333 N   0  0  0  0  0  0  0  0  0  0  0  0\\n  -41.4515   13.1593   12.1245 N   0  0  0  0  0  0  0  0  0  0  0  0\\n  -45.9701   20.4392   12.0356 N   0  0  0  0  0  0  0  0  0  0  0  0\\n  -38.5257   14.2710   13.4487 N   0  0  0  0  0  0  0  0  0  0  0  0\\n  -47.3937   16.4065   10.1006 N   0  0  0  0  0  0  0  0  0  0  0  0\\n  -48.9974   23.2991    9.9952 N   0  0  0  0  0  0  0  0  0  0  0  0\\n  -49.1327   23.3874   12.3181 O   0  0  0  0  0  0  0  0  0  0  0  0\\n  -53.8724   25.0803    8.9455 H   0  0  0  0  0  0  0  0  0  0  0  0\\n  -52.7821   23.4373    7.4294 H   0  0  0  0  0  0  0  0  0  0  0  0\\n  -52.6662   25.9012   10.9640 H   0  0  0  0  0  0  0  0  0  0  0  0\\n  -39.9878   17.0437   13.4728 H   0  0  0  0  0  0  0  0  0  0  0  0\\n  -42.0381   18.1983   12.9093 H   0  0  0  0  0  0  0  0  0  0  0  0\\n  -50.5015   22.6058    7.9240 H   0  0  0  0  0  0  0  0  0  0  0  0\\n  -50.4138   25.0920   11.4614 H   0  0  0  0  0  0  0  0  0  0  0  0\\n  -43.8386   14.5264   11.4829 H   0  0  0  0  0  0  0  0  0  0  0  0\\n  -43.7915   19.0168   12.5537 H   0  0  0  0  0  0  0  0  0  0  0  0\\n  -46.2112   24.3108   12.0692 H   0  0  0  0  0  0  0  0  0  0  0  0\\n  -46.8869   23.3010   13.3331 H   0  0  0  0  0  0  0  0  0  0  0  0\\n  -44.4575   23.1618   13.4309 H   0  0  0  0  0  0  0  0  0  0  0  0\\n  -44.3638   22.7320   11.7176 H   0  0  0  0  0  0  0  0  0  0  0  0\\n  -47.9039   20.4869   11.0892 H   0  0  0  0  0  0  0  0  0  0  0  0\\n  -47.8451   21.0058   12.7483 H   0  0  0  0  0  0  0  0  0  0  0  0\\n  -46.6457   22.5209   10.3695 H   0  0  0  0  0  0  0  0  0  0  0  0\\n  -44.0606   20.8186   12.9488 H   0  0  0  0  0  0  0  0  0  0  0  0\\n  -45.6610   19.9139   14.6825 H   0  0  0  0  0  0  0  0  0  0  0  0\\n  -44.8877   21.4474   15.1048 H   0  0  0  0  0  0  0  0  0  0  0  0\\n  -46.5616   21.4279   14.5711 H   0  0  0  0  0  0  0  0  0  0  0  0\\n  -42.0241   12.4146   11.7526 H   0  0  0  0  0  0  0  0  0  0  0  0\\n  -37.8732   13.5078   13.5352 H   0  0  0  0  0  0  0  0  0  0  0  0\\n  -38.1815   15.1637   13.7610 H   0  0  0  0  0  0  0  0  0  0  0  0\\n  -48.2439   16.8740    9.8539 H   0  0  0  0  0  0  0  0  0  0  0  0\\n  -47.2269   15.4379    9.8896 H   0  0  0  0  0  0  0  0  0  0  0  0\\n  -48.4539   22.9877    9.1955 H   0  0  0  0  0  0  0  0  0  0  0  0\\n  2  1  2  0\\n  3  1  1  0\\n  5  4  2  0\\n  6  2  1  0\\n  7  3  2  0\\n 10  4  1  0\\n 11  8  2  0\\n 11  5  1  0\\n 12 10  2  0\\n 12  8  1  0\\n 13  7  1  0\\n 13  6  2  0\\n 14  9  2  0\\n 14 11  1  0\\n 15  9  1  0\\n 16 10  1  0\\n 20 19  1  0\\n 22 21  1  0\\n 22 19  1  0\\n 22 18  1  0\\n 23 20  1  0\\n 24 23  1  0\\n 25 17  2  0\\n 25 14  1  0\\n 26 17  1  0\\n 26 15  2  0\\n 27 16  2  0\\n 28 27  1  0\\n 28 12  1  0\\n 29 23  1  0\\n 29 21  1  0\\n 29 15  1  0\\n 30 16  1  0\\n 31 17  1  0\\n 32 13  1  0\\n 32 18  1  0\\n 33 18  2  0\\n 34  1  1  0\\n 35  2  1  0\\n 36  3  1  0\\n 37  4  1  0\\n 38  5  1  0\\n 39  6  1  0\\n 40  7  1  0\\n 41  8  1  0\\n 42  9  1  0\\n 43 19  1  0\\n 44 19  1  0\\n 45 20  1  0\\n 46 20  1  0\\n 47 21  1  0\\n 48 21  1  0\\n 22 49  1  6\\n 23 50  1  1\\n 51 24  1  0\\n 52 24  1  0\\n 53 24  1  0\\n 54 28  1  0\\n 55 30  1  0\\n 56 30  1  0\\n 57 31  1  0\\n 58 31  1  0\\n 59 32  1  0\\nM  END\\n\",\"sdf\");\n\tviewer_1740946739141205.setStyle({\"stick\": {}});\n\tviewer_1740946739141205.setBackgroundColor(\"0xeeeeee\");\n\tviewer_1740946739141205.zoomTo();\nviewer_1740946739141205.render();\n});\n</script>",
      "text/html": [
       "<div id=\"3dmolviewer_1740946739141205\"  style=\"position: relative; width: 400px; height: 400px;\">\n",
       "        <p id=\"3dmolwarning_1740946739141205\" style=\"background-color:#ffcccc;color:black\">3Dmol.js failed to load for some reason.  Please check your browser console for error messages.<br></p>\n",
       "        </div>\n",
       "<script>\n",
       "\n",
       "var loadScriptAsync = function(uri){\n",
       "  return new Promise((resolve, reject) => {\n",
       "    //this is to ignore the existence of requirejs amd\n",
       "    var savedexports, savedmodule;\n",
       "    if (typeof exports !== 'undefined') savedexports = exports;\n",
       "    else exports = {}\n",
       "    if (typeof module !== 'undefined') savedmodule = module;\n",
       "    else module = {}\n",
       "\n",
       "    var tag = document.createElement('script');\n",
       "    tag.src = uri;\n",
       "    tag.async = true;\n",
       "    tag.onload = () => {\n",
       "        exports = savedexports;\n",
       "        module = savedmodule;\n",
       "        resolve();\n",
       "    };\n",
       "  var firstScriptTag = document.getElementsByTagName('script')[0];\n",
       "  firstScriptTag.parentNode.insertBefore(tag, firstScriptTag);\n",
       "});\n",
       "};\n",
       "\n",
       "if(typeof $3Dmolpromise === 'undefined') {\n",
       "$3Dmolpromise = null;\n",
       "  $3Dmolpromise = loadScriptAsync('https://cdnjs.cloudflare.com/ajax/libs/3Dmol/2.4.2/3Dmol-min.js');\n",
       "}\n",
       "\n",
       "var viewer_1740946739141205 = null;\n",
       "var warn = document.getElementById(\"3dmolwarning_1740946739141205\");\n",
       "if(warn) {\n",
       "    warn.parentNode.removeChild(warn);\n",
       "}\n",
       "$3Dmolpromise.then(function() {\n",
       "viewer_1740946739141205 = $3Dmol.createViewer(document.getElementById(\"3dmolviewer_1740946739141205\"),{backgroundColor:\"white\"});\n",
       "viewer_1740946739141205.zoomTo();\n",
       "\tviewer_1740946739141205.removeAllModels();\n",
       "\tviewer_1740946739141205.addModel(\"\\n     RDKit          3D\\n\\n 59 63  0  0  0  0  0  0  0  0999 V2000\\n  -52.8698   24.7178    9.1627 C   0  0  0  0  0  0  0  0  0  0  0  0\\n  -52.2495   23.7994    8.3089 C   0  0  0  0  0  0  0  0  0  0  0  0\\n  -52.2008   25.1752   10.2965 C   0  0  0  0  0  0  0  0  0  0  0  0\\n  -40.8135   16.4812   13.0451 C   0  0  0  0  0  0  0  0  0  0  0  0\\n  -42.0196   17.1305   12.7027 C   0  0  0  0  0  0  0  0  0  0  0  0\\n  -50.9510   23.3489    8.5798 C   0  0  0  0  0  0  0  0  0  0  0  0\\n  -50.9215   24.6994   10.5832 C   0  0  0  0  0  0  0  0  0  0  0  0\\n  -43.0215   15.0989   11.9119 C   0  0  0  0  0  0  0  0  0  0  0  0\\n  -44.5686   18.4949   12.0339 C   0  0  0  0  0  0  0  0  0  0  0  0\\n  -40.7190   15.1059   12.7967 C   0  0  0  0  0  0  0  0  0  0  0  0\\n  -43.1387   16.4755   12.1201 C   0  0  0  0  0  0  0  0  0  0  0  0\\n  -41.8194   14.4669   12.2479 C   0  0  0  0  0  0  0  0  0  0  0  0\\n  -50.2908   23.7881    9.7299 C   0  0  0  0  0  0  0  0  0  0  0  0\\n  -44.3861   17.1718   11.7355 C   0  0  0  0  0  0  0  0  0  0  0  0\\n  -45.7504   19.1069   11.6948 C   0  0  0  0  0  0  0  0  0  0  0  0\\n  -39.7507   14.0727   12.9484 C   0  0  0  0  0  0  0  0  0  0  0  0\\n  -46.4387   17.1216   10.7593 C   0  0  0  0  0  0  0  0  0  0  0  0\\n  -48.5162   23.1228   11.2874 C   0  0  0  0  0  0  0  0  0  0  0  0\\n  -46.3351   23.2733   12.3863 C   0  0  0  0  0  0  0  0  0  0  0  0\\n  -44.9812   22.6369   12.6196 C   0  0  0  0  0  0  0  0  0  0  0  0\\n  -47.2936   21.0318   11.8107 C   0  0  0  0  0  0  0  0  0  0  0  0\\n  -47.1390   22.4879   11.3502 C   0  0  1  0  0  0  0  0  0  0  0  0\\n  -45.0959   21.1549   12.9822 C   0  0  1  0  0  0  0  0  0  0  0  0\\n  -45.5823   20.9713   14.4102 C   0  0  0  0  0  0  0  0  0  0  0  0\\n  -45.3291   16.4728   11.0827 N   0  0  0  0  0  0  0  0  0  0  0  0\\n  -46.6865   18.4067   11.0326 N   0  0  0  0  0  0  0  0  0  0  0  0\\n  -40.2038   12.8913   12.5333 N   0  0  0  0  0  0  0  0  0  0  0  0\\n  -41.4515   13.1593   12.1245 N   0  0  0  0  0  0  0  0  0  0  0  0\\n  -45.9701   20.4392   12.0356 N   0  0  0  0  0  0  0  0  0  0  0  0\\n  -38.5257   14.2710   13.4487 N   0  0  0  0  0  0  0  0  0  0  0  0\\n  -47.3937   16.4065   10.1006 N   0  0  0  0  0  0  0  0  0  0  0  0\\n  -48.9974   23.2991    9.9952 N   0  0  0  0  0  0  0  0  0  0  0  0\\n  -49.1327   23.3874   12.3181 O   0  0  0  0  0  0  0  0  0  0  0  0\\n  -53.8724   25.0803    8.9455 H   0  0  0  0  0  0  0  0  0  0  0  0\\n  -52.7821   23.4373    7.4294 H   0  0  0  0  0  0  0  0  0  0  0  0\\n  -52.6662   25.9012   10.9640 H   0  0  0  0  0  0  0  0  0  0  0  0\\n  -39.9878   17.0437   13.4728 H   0  0  0  0  0  0  0  0  0  0  0  0\\n  -42.0381   18.1983   12.9093 H   0  0  0  0  0  0  0  0  0  0  0  0\\n  -50.5015   22.6058    7.9240 H   0  0  0  0  0  0  0  0  0  0  0  0\\n  -50.4138   25.0920   11.4614 H   0  0  0  0  0  0  0  0  0  0  0  0\\n  -43.8386   14.5264   11.4829 H   0  0  0  0  0  0  0  0  0  0  0  0\\n  -43.7915   19.0168   12.5537 H   0  0  0  0  0  0  0  0  0  0  0  0\\n  -46.2112   24.3108   12.0692 H   0  0  0  0  0  0  0  0  0  0  0  0\\n  -46.8869   23.3010   13.3331 H   0  0  0  0  0  0  0  0  0  0  0  0\\n  -44.4575   23.1618   13.4309 H   0  0  0  0  0  0  0  0  0  0  0  0\\n  -44.3638   22.7320   11.7176 H   0  0  0  0  0  0  0  0  0  0  0  0\\n  -47.9039   20.4869   11.0892 H   0  0  0  0  0  0  0  0  0  0  0  0\\n  -47.8451   21.0058   12.7483 H   0  0  0  0  0  0  0  0  0  0  0  0\\n  -46.6457   22.5209   10.3695 H   0  0  0  0  0  0  0  0  0  0  0  0\\n  -44.0606   20.8186   12.9488 H   0  0  0  0  0  0  0  0  0  0  0  0\\n  -45.6610   19.9139   14.6825 H   0  0  0  0  0  0  0  0  0  0  0  0\\n  -44.8877   21.4474   15.1048 H   0  0  0  0  0  0  0  0  0  0  0  0\\n  -46.5616   21.4279   14.5711 H   0  0  0  0  0  0  0  0  0  0  0  0\\n  -42.0241   12.4146   11.7526 H   0  0  0  0  0  0  0  0  0  0  0  0\\n  -37.8732   13.5078   13.5352 H   0  0  0  0  0  0  0  0  0  0  0  0\\n  -38.1815   15.1637   13.7610 H   0  0  0  0  0  0  0  0  0  0  0  0\\n  -48.2439   16.8740    9.8539 H   0  0  0  0  0  0  0  0  0  0  0  0\\n  -47.2269   15.4379    9.8896 H   0  0  0  0  0  0  0  0  0  0  0  0\\n  -48.4539   22.9877    9.1955 H   0  0  0  0  0  0  0  0  0  0  0  0\\n  2  1  2  0\\n  3  1  1  0\\n  5  4  2  0\\n  6  2  1  0\\n  7  3  2  0\\n 10  4  1  0\\n 11  8  2  0\\n 11  5  1  0\\n 12 10  2  0\\n 12  8  1  0\\n 13  7  1  0\\n 13  6  2  0\\n 14  9  2  0\\n 14 11  1  0\\n 15  9  1  0\\n 16 10  1  0\\n 20 19  1  0\\n 22 21  1  0\\n 22 19  1  0\\n 22 18  1  0\\n 23 20  1  0\\n 24 23  1  0\\n 25 17  2  0\\n 25 14  1  0\\n 26 17  1  0\\n 26 15  2  0\\n 27 16  2  0\\n 28 27  1  0\\n 28 12  1  0\\n 29 23  1  0\\n 29 21  1  0\\n 29 15  1  0\\n 30 16  1  0\\n 31 17  1  0\\n 32 13  1  0\\n 32 18  1  0\\n 33 18  2  0\\n 34  1  1  0\\n 35  2  1  0\\n 36  3  1  0\\n 37  4  1  0\\n 38  5  1  0\\n 39  6  1  0\\n 40  7  1  0\\n 41  8  1  0\\n 42  9  1  0\\n 43 19  1  0\\n 44 19  1  0\\n 45 20  1  0\\n 46 20  1  0\\n 47 21  1  0\\n 48 21  1  0\\n 22 49  1  6\\n 23 50  1  1\\n 51 24  1  0\\n 52 24  1  0\\n 53 24  1  0\\n 54 28  1  0\\n 55 30  1  0\\n 56 30  1  0\\n 57 31  1  0\\n 58 31  1  0\\n 59 32  1  0\\nM  END\\n\",\"sdf\");\n",
       "\tviewer_1740946739141205.setStyle({\"stick\": {}});\n",
       "\tviewer_1740946739141205.setBackgroundColor(\"0xeeeeee\");\n",
       "\tviewer_1740946739141205.zoomTo();\n",
       "viewer_1740946739141205.render();\n",
       "});\n",
       "</script>"
      ]
     },
     "metadata": {},
     "output_type": "display_data"
    }
   ],
   "source": [
    "IPythonConsole.drawMol3D(local_min)"
   ]
  },
  {
   "cell_type": "code",
   "execution_count": 10,
   "metadata": {},
   "outputs": [
    {
     "data": {
      "application/3dmoljs_load.v0": "<div id=\"3dmolviewer_17409467391451771\"  style=\"position: relative; width: 400px; height: 400px;\">\n        <p id=\"3dmolwarning_17409467391451771\" style=\"background-color:#ffcccc;color:black\">3Dmol.js failed to load for some reason.  Please check your browser console for error messages.<br></p>\n        </div>\n<script>\n\nvar loadScriptAsync = function(uri){\n  return new Promise((resolve, reject) => {\n    //this is to ignore the existence of requirejs amd\n    var savedexports, savedmodule;\n    if (typeof exports !== 'undefined') savedexports = exports;\n    else exports = {}\n    if (typeof module !== 'undefined') savedmodule = module;\n    else module = {}\n\n    var tag = document.createElement('script');\n    tag.src = uri;\n    tag.async = true;\n    tag.onload = () => {\n        exports = savedexports;\n        module = savedmodule;\n        resolve();\n    };\n  var firstScriptTag = document.getElementsByTagName('script')[0];\n  firstScriptTag.parentNode.insertBefore(tag, firstScriptTag);\n});\n};\n\nif(typeof $3Dmolpromise === 'undefined') {\n$3Dmolpromise = null;\n  $3Dmolpromise = loadScriptAsync('https://cdnjs.cloudflare.com/ajax/libs/3Dmol/2.4.2/3Dmol-min.js');\n}\n\nvar viewer_17409467391451771 = null;\nvar warn = document.getElementById(\"3dmolwarning_17409467391451771\");\nif(warn) {\n    warn.parentNode.removeChild(warn);\n}\n$3Dmolpromise.then(function() {\nviewer_17409467391451771 = $3Dmol.createViewer(document.getElementById(\"3dmolviewer_17409467391451771\"),{backgroundColor:\"white\"});\nviewer_17409467391451771.zoomTo();\n\tviewer_17409467391451771.removeAllModels();\n\tviewer_17409467391451771.addModel(\"\\n     RDKit          3D\\n\\n 59 63  0  0  0  0  0  0  0  0999 V2000\\n  -52.8580   24.5779    8.7733 C   0  0  0  0  0  0  0  0  0  0  0  0\\n  -52.0486   23.7657    7.9840 C   0  0  0  0  0  0  0  0  0  0  0  0\\n  -52.4770   24.8687   10.0803 C   0  0  0  0  0  0  0  0  0  0  0  0\\n  -40.6946   16.2912   12.8619 C   0  0  0  0  0  0  0  0  0  0  0  0\\n  -41.8289   17.0672   12.5505 C   0  0  0  0  0  0  0  0  0  0  0  0\\n  -50.8614   23.2413    8.5034 C   0  0  0  0  0  0  0  0  0  0  0  0\\n  -51.2921   24.3399   10.6038 C   0  0  0  0  0  0  0  0  0  0  0  0\\n  -43.0655   15.1032   11.8980 C   0  0  0  0  0  0  0  0  0  0  0  0\\n  -44.3884   18.6671   12.0984 C   0  0  0  0  0  0  0  0  0  0  0  0\\n  -40.7504   14.9000   12.6852 C   0  0  0  0  0  0  0  0  0  0  0  0\\n  -43.0312   16.5074   12.0698 C   0  0  0  0  0  0  0  0  0  0  0  0\\n  -41.9299   14.3434   12.2136 C   0  0  0  0  0  0  0  0  0  0  0  0\\n  -50.4723   23.5230    9.8198 C   0  0  0  0  0  0  0  0  0  0  0  0\\n  -44.2402   17.3288   11.7530 C   0  0  0  0  0  0  0  0  0  0  0  0\\n  -45.5788   19.3132   11.7953 C   0  0  0  0  0  0  0  0  0  0  0  0\\n  -39.8765   13.7932   12.8563 C   0  0  0  0  0  0  0  0  0  0  0  0\\n  -46.3325   17.3555   10.8376 C   0  0  0  0  0  0  0  0  0  0  0  0\\n  -48.6813   23.0999   11.5176 C   0  0  0  0  0  0  0  0  0  0  0  0\\n  -46.4428   23.4445   12.5882 C   0  0  0  0  0  0  0  0  0  0  0  0\\n  -45.0198   22.9170   12.6788 C   0  0  0  0  0  0  0  0  0  0  0  0\\n  -47.2117   21.1317   11.9257 C   0  0  0  0  0  0  0  0  0  0  0  0\\n  -47.2366   22.6190   11.5752 C   0  0  1  0  0  0  0  0  0  0  0  0\\n  -44.9681   21.4212   13.0304 C   0  0  1  0  0  0  0  0  0  0  0  0\\n  -45.3605   21.1573   14.4878 C   0  0  0  0  0  0  0  0  0  0  0  0\\n  -45.2270   16.6727   11.1127 N   0  0  0  0  0  0  0  0  0  0  0  0\\n  -46.5414   18.6337   11.1504 N   0  0  0  0  0  0  0  0  0  0  0  0\\n  -40.4550   12.6390   12.5376 N   0  0  0  0  0  0  0  0  0  0  0  0\\n  -41.6916   12.9971   12.1548 N   0  0  0  0  0  0  0  0  0  0  0  0\\n  -45.8246   20.6513   12.1103 N   0  0  0  0  0  0  0  0  0  0  0  0\\n  -38.6146   13.8767   13.2859 N   0  0  0  0  0  0  0  0  0  0  0  0\\n  -47.3341   16.6933   10.1926 N   0  0  0  0  0  0  0  0  0  0  0  0\\n  -49.2376   22.9920   10.2552 N   0  0  0  0  0  0  0  0  0  0  0  0\\n  -49.2506   23.5221   12.5192 O   0  0  0  0  0  0  0  0  0  0  0  0\\n  -53.7805   24.9892    8.3716 H   0  0  0  0  0  0  0  0  0  0  0  0\\n  -52.3392   23.5459    6.9606 H   0  0  0  0  0  0  0  0  0  0  0  0\\n  -53.0952   25.5159   10.6974 H   0  0  0  0  0  0  0  0  0  0  0  0\\n  -39.7923   16.7690   13.2301 H   0  0  0  0  0  0  0  0  0  0  0  0\\n  -41.7271   18.1392   12.6946 H   0  0  0  0  0  0  0  0  0  0  0  0\\n  -50.2482   22.6130    7.8623 H   0  0  0  0  0  0  0  0  0  0  0  0\\n  -51.0329   24.5977   11.6265 H   0  0  0  0  0  0  0  0  0  0  0  0\\n  -43.9628   14.6120   11.5286 H   0  0  0  0  0  0  0  0  0  0  0  0\\n  -43.5928   19.1802   12.6117 H   0  0  0  0  0  0  0  0  0  0  0  0\\n  -46.4266   24.4956   12.2767 H   0  0  0  0  0  0  0  0  0  0  0  0\\n  -46.9155   23.4208   13.5777 H   0  0  0  0  0  0  0  0  0  0  0  0\\n  -44.4523   23.5020   13.4121 H   0  0  0  0  0  0  0  0  0  0  0  0\\n  -44.5274   23.0719   11.7088 H   0  0  0  0  0  0  0  0  0  0  0  0\\n  -47.7269   20.6084   11.1121 H   0  0  0  0  0  0  0  0  0  0  0  0\\n  -47.7935   20.9311   12.8348 H   0  0  0  0  0  0  0  0  0  0  0  0\\n  -46.7732   22.7593   10.5890 H   0  0  0  0  0  0  0  0  0  0  0  0\\n  -43.9151   21.1520   12.9070 H   0  0  0  0  0  0  0  0  0  0  0  0\\n  -45.2445   20.0987   14.7428 H   0  0  0  0  0  0  0  0  0  0  0  0\\n  -44.7307   21.7369   15.1703 H   0  0  0  0  0  0  0  0  0  0  0  0\\n  -46.4013   21.4245   14.6930 H   0  0  0  0  0  0  0  0  0  0  0  0\\n  -42.3347   12.2704   11.8628 H   0  0  0  0  0  0  0  0  0  0  0  0\\n  -38.0655   13.0308   13.3733 H   0  0  0  0  0  0  0  0  0  0  0  0\\n  -38.1543   14.7446   13.5170 H   0  0  0  0  0  0  0  0  0  0  0  0\\n  -48.1829   17.1935   10.0040 H   0  0  0  0  0  0  0  0  0  0  0  0\\n  -47.1837   15.7333    9.9427 H   0  0  0  0  0  0  0  0  0  0  0  0\\n  -48.7014   22.4913    9.5572 H   0  0  0  0  0  0  0  0  0  0  0  0\\n  2  1  2  0\\n  3  1  1  0\\n  5  4  2  0\\n  6  2  1  0\\n  7  3  2  0\\n 10  4  1  0\\n 11  8  2  0\\n 11  5  1  0\\n 12 10  2  0\\n 12  8  1  0\\n 13  7  1  0\\n 13  6  2  0\\n 14  9  2  0\\n 14 11  1  0\\n 15  9  1  0\\n 16 10  1  0\\n 20 19  1  0\\n 22 21  1  0\\n 22 19  1  0\\n 22 18  1  0\\n 23 20  1  0\\n 24 23  1  0\\n 25 17  2  0\\n 25 14  1  0\\n 26 17  1  0\\n 26 15  2  0\\n 27 16  2  0\\n 28 27  1  0\\n 28 12  1  0\\n 29 23  1  0\\n 29 21  1  0\\n 29 15  1  0\\n 30 16  1  0\\n 31 17  1  0\\n 32 13  1  0\\n 32 18  1  0\\n 33 18  2  0\\n 34  1  1  0\\n 35  2  1  0\\n 36  3  1  0\\n 37  4  1  0\\n 38  5  1  0\\n 39  6  1  0\\n 40  7  1  0\\n 41  8  1  0\\n 42  9  1  0\\n 43 19  1  0\\n 44 19  1  0\\n 45 20  1  0\\n 46 20  1  0\\n 47 21  1  0\\n 48 21  1  0\\n 22 49  1  6\\n 23 50  1  1\\n 51 24  1  0\\n 52 24  1  0\\n 53 24  1  0\\n 54 28  1  0\\n 55 30  1  0\\n 56 30  1  0\\n 57 31  1  0\\n 58 31  1  0\\n 59 32  1  0\\nM  END\\n\",\"sdf\");\n\tviewer_17409467391451771.setStyle({\"stick\": {}});\n\tviewer_17409467391451771.setBackgroundColor(\"0xeeeeee\");\n\tviewer_17409467391451771.zoomTo();\nviewer_17409467391451771.render();\n});\n</script>",
      "text/html": [
       "<div id=\"3dmolviewer_17409467391451771\"  style=\"position: relative; width: 400px; height: 400px;\">\n",
       "        <p id=\"3dmolwarning_17409467391451771\" style=\"background-color:#ffcccc;color:black\">3Dmol.js failed to load for some reason.  Please check your browser console for error messages.<br></p>\n",
       "        </div>\n",
       "<script>\n",
       "\n",
       "var loadScriptAsync = function(uri){\n",
       "  return new Promise((resolve, reject) => {\n",
       "    //this is to ignore the existence of requirejs amd\n",
       "    var savedexports, savedmodule;\n",
       "    if (typeof exports !== 'undefined') savedexports = exports;\n",
       "    else exports = {}\n",
       "    if (typeof module !== 'undefined') savedmodule = module;\n",
       "    else module = {}\n",
       "\n",
       "    var tag = document.createElement('script');\n",
       "    tag.src = uri;\n",
       "    tag.async = true;\n",
       "    tag.onload = () => {\n",
       "        exports = savedexports;\n",
       "        module = savedmodule;\n",
       "        resolve();\n",
       "    };\n",
       "  var firstScriptTag = document.getElementsByTagName('script')[0];\n",
       "  firstScriptTag.parentNode.insertBefore(tag, firstScriptTag);\n",
       "});\n",
       "};\n",
       "\n",
       "if(typeof $3Dmolpromise === 'undefined') {\n",
       "$3Dmolpromise = null;\n",
       "  $3Dmolpromise = loadScriptAsync('https://cdnjs.cloudflare.com/ajax/libs/3Dmol/2.4.2/3Dmol-min.js');\n",
       "}\n",
       "\n",
       "var viewer_17409467391451771 = null;\n",
       "var warn = document.getElementById(\"3dmolwarning_17409467391451771\");\n",
       "if(warn) {\n",
       "    warn.parentNode.removeChild(warn);\n",
       "}\n",
       "$3Dmolpromise.then(function() {\n",
       "viewer_17409467391451771 = $3Dmol.createViewer(document.getElementById(\"3dmolviewer_17409467391451771\"),{backgroundColor:\"white\"});\n",
       "viewer_17409467391451771.zoomTo();\n",
       "\tviewer_17409467391451771.removeAllModels();\n",
       "\tviewer_17409467391451771.addModel(\"\\n     RDKit          3D\\n\\n 59 63  0  0  0  0  0  0  0  0999 V2000\\n  -52.8580   24.5779    8.7733 C   0  0  0  0  0  0  0  0  0  0  0  0\\n  -52.0486   23.7657    7.9840 C   0  0  0  0  0  0  0  0  0  0  0  0\\n  -52.4770   24.8687   10.0803 C   0  0  0  0  0  0  0  0  0  0  0  0\\n  -40.6946   16.2912   12.8619 C   0  0  0  0  0  0  0  0  0  0  0  0\\n  -41.8289   17.0672   12.5505 C   0  0  0  0  0  0  0  0  0  0  0  0\\n  -50.8614   23.2413    8.5034 C   0  0  0  0  0  0  0  0  0  0  0  0\\n  -51.2921   24.3399   10.6038 C   0  0  0  0  0  0  0  0  0  0  0  0\\n  -43.0655   15.1032   11.8980 C   0  0  0  0  0  0  0  0  0  0  0  0\\n  -44.3884   18.6671   12.0984 C   0  0  0  0  0  0  0  0  0  0  0  0\\n  -40.7504   14.9000   12.6852 C   0  0  0  0  0  0  0  0  0  0  0  0\\n  -43.0312   16.5074   12.0698 C   0  0  0  0  0  0  0  0  0  0  0  0\\n  -41.9299   14.3434   12.2136 C   0  0  0  0  0  0  0  0  0  0  0  0\\n  -50.4723   23.5230    9.8198 C   0  0  0  0  0  0  0  0  0  0  0  0\\n  -44.2402   17.3288   11.7530 C   0  0  0  0  0  0  0  0  0  0  0  0\\n  -45.5788   19.3132   11.7953 C   0  0  0  0  0  0  0  0  0  0  0  0\\n  -39.8765   13.7932   12.8563 C   0  0  0  0  0  0  0  0  0  0  0  0\\n  -46.3325   17.3555   10.8376 C   0  0  0  0  0  0  0  0  0  0  0  0\\n  -48.6813   23.0999   11.5176 C   0  0  0  0  0  0  0  0  0  0  0  0\\n  -46.4428   23.4445   12.5882 C   0  0  0  0  0  0  0  0  0  0  0  0\\n  -45.0198   22.9170   12.6788 C   0  0  0  0  0  0  0  0  0  0  0  0\\n  -47.2117   21.1317   11.9257 C   0  0  0  0  0  0  0  0  0  0  0  0\\n  -47.2366   22.6190   11.5752 C   0  0  1  0  0  0  0  0  0  0  0  0\\n  -44.9681   21.4212   13.0304 C   0  0  1  0  0  0  0  0  0  0  0  0\\n  -45.3605   21.1573   14.4878 C   0  0  0  0  0  0  0  0  0  0  0  0\\n  -45.2270   16.6727   11.1127 N   0  0  0  0  0  0  0  0  0  0  0  0\\n  -46.5414   18.6337   11.1504 N   0  0  0  0  0  0  0  0  0  0  0  0\\n  -40.4550   12.6390   12.5376 N   0  0  0  0  0  0  0  0  0  0  0  0\\n  -41.6916   12.9971   12.1548 N   0  0  0  0  0  0  0  0  0  0  0  0\\n  -45.8246   20.6513   12.1103 N   0  0  0  0  0  0  0  0  0  0  0  0\\n  -38.6146   13.8767   13.2859 N   0  0  0  0  0  0  0  0  0  0  0  0\\n  -47.3341   16.6933   10.1926 N   0  0  0  0  0  0  0  0  0  0  0  0\\n  -49.2376   22.9920   10.2552 N   0  0  0  0  0  0  0  0  0  0  0  0\\n  -49.2506   23.5221   12.5192 O   0  0  0  0  0  0  0  0  0  0  0  0\\n  -53.7805   24.9892    8.3716 H   0  0  0  0  0  0  0  0  0  0  0  0\\n  -52.3392   23.5459    6.9606 H   0  0  0  0  0  0  0  0  0  0  0  0\\n  -53.0952   25.5159   10.6974 H   0  0  0  0  0  0  0  0  0  0  0  0\\n  -39.7923   16.7690   13.2301 H   0  0  0  0  0  0  0  0  0  0  0  0\\n  -41.7271   18.1392   12.6946 H   0  0  0  0  0  0  0  0  0  0  0  0\\n  -50.2482   22.6130    7.8623 H   0  0  0  0  0  0  0  0  0  0  0  0\\n  -51.0329   24.5977   11.6265 H   0  0  0  0  0  0  0  0  0  0  0  0\\n  -43.9628   14.6120   11.5286 H   0  0  0  0  0  0  0  0  0  0  0  0\\n  -43.5928   19.1802   12.6117 H   0  0  0  0  0  0  0  0  0  0  0  0\\n  -46.4266   24.4956   12.2767 H   0  0  0  0  0  0  0  0  0  0  0  0\\n  -46.9155   23.4208   13.5777 H   0  0  0  0  0  0  0  0  0  0  0  0\\n  -44.4523   23.5020   13.4121 H   0  0  0  0  0  0  0  0  0  0  0  0\\n  -44.5274   23.0719   11.7088 H   0  0  0  0  0  0  0  0  0  0  0  0\\n  -47.7269   20.6084   11.1121 H   0  0  0  0  0  0  0  0  0  0  0  0\\n  -47.7935   20.9311   12.8348 H   0  0  0  0  0  0  0  0  0  0  0  0\\n  -46.7732   22.7593   10.5890 H   0  0  0  0  0  0  0  0  0  0  0  0\\n  -43.9151   21.1520   12.9070 H   0  0  0  0  0  0  0  0  0  0  0  0\\n  -45.2445   20.0987   14.7428 H   0  0  0  0  0  0  0  0  0  0  0  0\\n  -44.7307   21.7369   15.1703 H   0  0  0  0  0  0  0  0  0  0  0  0\\n  -46.4013   21.4245   14.6930 H   0  0  0  0  0  0  0  0  0  0  0  0\\n  -42.3347   12.2704   11.8628 H   0  0  0  0  0  0  0  0  0  0  0  0\\n  -38.0655   13.0308   13.3733 H   0  0  0  0  0  0  0  0  0  0  0  0\\n  -38.1543   14.7446   13.5170 H   0  0  0  0  0  0  0  0  0  0  0  0\\n  -48.1829   17.1935   10.0040 H   0  0  0  0  0  0  0  0  0  0  0  0\\n  -47.1837   15.7333    9.9427 H   0  0  0  0  0  0  0  0  0  0  0  0\\n  -48.7014   22.4913    9.5572 H   0  0  0  0  0  0  0  0  0  0  0  0\\n  2  1  2  0\\n  3  1  1  0\\n  5  4  2  0\\n  6  2  1  0\\n  7  3  2  0\\n 10  4  1  0\\n 11  8  2  0\\n 11  5  1  0\\n 12 10  2  0\\n 12  8  1  0\\n 13  7  1  0\\n 13  6  2  0\\n 14  9  2  0\\n 14 11  1  0\\n 15  9  1  0\\n 16 10  1  0\\n 20 19  1  0\\n 22 21  1  0\\n 22 19  1  0\\n 22 18  1  0\\n 23 20  1  0\\n 24 23  1  0\\n 25 17  2  0\\n 25 14  1  0\\n 26 17  1  0\\n 26 15  2  0\\n 27 16  2  0\\n 28 27  1  0\\n 28 12  1  0\\n 29 23  1  0\\n 29 21  1  0\\n 29 15  1  0\\n 30 16  1  0\\n 31 17  1  0\\n 32 13  1  0\\n 32 18  1  0\\n 33 18  2  0\\n 34  1  1  0\\n 35  2  1  0\\n 36  3  1  0\\n 37  4  1  0\\n 38  5  1  0\\n 39  6  1  0\\n 40  7  1  0\\n 41  8  1  0\\n 42  9  1  0\\n 43 19  1  0\\n 44 19  1  0\\n 45 20  1  0\\n 46 20  1  0\\n 47 21  1  0\\n 48 21  1  0\\n 22 49  1  6\\n 23 50  1  1\\n 51 24  1  0\\n 52 24  1  0\\n 53 24  1  0\\n 54 28  1  0\\n 55 30  1  0\\n 56 30  1  0\\n 57 31  1  0\\n 58 31  1  0\\n 59 32  1  0\\nM  END\\n\",\"sdf\");\n",
       "\tviewer_17409467391451771.setStyle({\"stick\": {}});\n",
       "\tviewer_17409467391451771.setBackgroundColor(\"0xeeeeee\");\n",
       "\tviewer_17409467391451771.zoomTo();\n",
       "viewer_17409467391451771.render();\n",
       "});\n",
       "</script>"
      ]
     },
     "metadata": {},
     "output_type": "display_data"
    }
   ],
   "source": [
    "IPythonConsole.drawMol3D(global_min)"
   ]
  },
  {
   "cell_type": "markdown",
   "metadata": {},
   "source": [
    "The original and local minimum conformers look very similar to the eye. This is because local minimisation has a loose convergence criteria and is simply to clean up any high energy artifacts left my docking. The global minimum is noticably different, with all aromatic rings having relaxed into similar planes."
   ]
  },
  {
   "cell_type": "markdown",
   "metadata": {},
   "source": [
    "You may again want to convert your results back into an sdf. You can do this with the function below:"
   ]
  },
  {
   "cell_type": "code",
   "execution_count": 11,
   "metadata": {},
   "outputs": [],
   "source": [
    "def set_properties(mol, properties, row, pose):\n",
    "    mol.SetProp(\"pose\", pose)\n",
    "    for p in properties:\n",
    "        mol.SetProp(p, str(row[p]))\n",
    "    return mol\n",
    "\n",
    "def dataframe_to_sdf(df, sdf_file):\n",
    "    properties = [p for p in df.columns if p not in {\"mol_bytes\", \"local_min_mol\", \"global_min_mol\"}]\n",
    "    sdf = Chem.SDWriter(sdf_file)\n",
    "\n",
    "    for _, row in df.iterrows():\n",
    "        mol = set_properties(Chem.Mol(row.mol_bytes), properties, row, \"docked\")\n",
    "        sdf.write(mol)\n",
    "\n",
    "        local_min = set_properties(Chem.Mol(row.local_min_mol), properties, row, \"local_min\")\n",
    "        sdf.write(local_min)\n",
    "\n",
    "        global_min = set_properties(Chem.Mol(row.global_min_mol), properties, row, \"global_min\")\n",
    "        sdf.write(global_min)\n",
    "    \n",
    "    sdf.close()\n",
    "\n",
    "dataframe_to_sdf(results, '../data/example_ligboundconf_output.sdf')"
   ]
  },
  {
   "cell_type": "markdown",
   "metadata": {},
   "source": [
    "Hopefully you now have a good grasp on how to run the StrainRelief tool! I hope you find it as useful as we have.\n",
    "\n",
    "Ewan"
   ]
  }
 ],
 "metadata": {
  "kernelspec": {
   "display_name": "strain",
   "language": "python",
   "name": "python3"
  },
  "language_info": {
   "codemirror_mode": {
    "name": "ipython",
    "version": 3
   },
   "file_extension": ".py",
   "mimetype": "text/x-python",
   "name": "python",
   "nbconvert_exporter": "python",
   "pygments_lexer": "ipython3",
   "version": "3.11.0"
  }
 },
 "nbformat": 4,
 "nbformat_minor": 2
}
